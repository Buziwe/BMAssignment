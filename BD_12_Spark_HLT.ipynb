{
  "nbformat": 4,
  "nbformat_minor": 0,
  "metadata": {
    "kernelspec": {
      "display_name": "Python 3",
      "language": "python",
      "name": "python3"
    },
    "language_info": {
      "codemirror_mode": {
        "name": "ipython",
        "version": 3
      },
      "file_extension": ".py",
      "mimetype": "text/x-python",
      "name": "python",
      "nbconvert_exporter": "python",
      "pygments_lexer": "ipython3",
      "version": "3.6.4"
    },
    "colab": {
      "name": "BD_12_Spark_HLT.ipynb",
      "provenance": [],
      "collapsed_sections": [],
      "toc_visible": true,
      "include_colab_link": true
    }
  },
  "cells": [
    {
      "cell_type": "markdown",
      "metadata": {
        "id": "view-in-github",
        "colab_type": "text"
      },
      "source": [
        "<a href=\"https://colab.research.google.com/github/Buziwe/BMAssignment/blob/master/BD_12_Spark_HLT.ipynb\" target=\"_parent\"><img src=\"https://colab.research.google.com/assets/colab-badge.svg\" alt=\"Open In Colab\"/></a>"
      ]
    },
    {
      "cell_type": "markdown",
      "metadata": {
        "id": "1mDGP82LYIek",
        "colab_type": "text"
      },
      "source": [
        "# Setup"
      ]
    },
    {
      "cell_type": "code",
      "metadata": {
        "id": "Ou1XUBsfYLdj",
        "colab_type": "code",
        "colab": {}
      },
      "source": [
        "# Installing java and downloading spark\n",
        "!apt-get install openjdk-8-jdk-headless -qq > /dev/null\n",
        "!wget -q https://www-us.apache.org/dist/spark/spark-2.4.5/spark-2.4.5-bin-hadoop2.7.tgz\n",
        "!tar xf spark-2.4.5-bin-hadoop2.7.tgz\n",
        "!pip install -q findspark\n",
        "import os\n",
        "os.environ[\"JAVA_HOME\"] = \"/usr/lib/jvm/java-8-openjdk-amd64\"\n",
        "os.environ[\"SPARK_HOME\"] = \"/content/spark-2.4.5-bin-hadoop2.7\""
      ],
      "execution_count": 1,
      "outputs": []
    },
    {
      "cell_type": "markdown",
      "metadata": {
        "id": "FdZBKIMTYNWk",
        "colab_type": "text"
      },
      "source": [
        "### Upload concrete.csv and concrete_unmeasured.csv"
      ]
    },
    {
      "cell_type": "markdown",
      "metadata": {
        "id": "N5nNCRTgYTpp",
        "colab_type": "text"
      },
      "source": [
        "# Assignment"
      ]
    },
    {
      "cell_type": "markdown",
      "metadata": {
        "id": "rY_DttmDYIew",
        "colab_type": "text"
      },
      "source": [
        "Concrete is the most important material in civil engineering. The concrete compressive strength is a highly nonlinear function of age and ingredients. These ingredients include cement, blast furnace slag, fly ash, \n",
        "water, superplasticizer, coarse aggregate, and fine aggregate. You will use these data to predict the compresive strength of a concrete block. The actual concrete compressive strength (MPa) for a given mixture  - our training  data was determined in a laboratory.   Data from [here](https://archive.ics.uci.edu/ml/datasets/Concrete+Compressive+Strength)\n",
        "  \n",
        "We now want to be able to predict concrete compressive strength without needing to measure it in a lab. You will need to read the data into spark, clean it by removing some missing values, and prepare it for model fitting. You will then need to fit an appropriate machine learning model, and output your predictions and saved model.  \n",
        "  \n",
        "You can find the data in the file **concrete.csv**. Once you have built your best model with these data. Please make predictions on these new data **concrete_unmeasured.csv** for which we do not know the concrete compressive strength.  "
      ]
    },
    {
      "cell_type": "markdown",
      "metadata": {
        "id": "12-NlSI-YIey",
        "colab_type": "text"
      },
      "source": [
        "### Start spark app"
      ]
    },
    {
      "cell_type": "code",
      "metadata": {
        "id": "yZPOHkqtW9wd",
        "colab_type": "code",
        "colab": {}
      },
      "source": [
        "import findspark\n",
        "findspark.init()\n",
        "from pyspark.sql import SparkSession\n",
        "spark = SparkSession.builder.master(\"local[*]\").getOrCreate()"
      ],
      "execution_count": 2,
      "outputs": []
    },
    {
      "cell_type": "markdown",
      "metadata": {
        "id": "y4OJZYfnYIe3",
        "colab_type": "text"
      },
      "source": [
        "### Load and clean data"
      ]
    },
    {
      "cell_type": "code",
      "metadata": {
        "id": "w_fo8dYyLgxA",
        "colab_type": "code",
        "colab": {}
      },
      "source": [
        "data = spark.read.csv(\"concrete.csv\",header=True)\n",
        "data2 = spark.read.csv(\"concrete_unmeasured.csv\",header=True)"
      ],
      "execution_count": 4,
      "outputs": []
    },
    {
      "cell_type": "code",
      "metadata": {
        "id": "NUKD-44iLi4S",
        "colab_type": "code",
        "colab": {}
      },
      "source": [
        "#get rid of unwanted columns\n",
        "data = data.drop('_c0')\n",
        "data2 = data.drop('_c0')\n",
        "#drop nas\n",
        "data = data.dropna()\n",
        "data2 = data.dropna()"
      ],
      "execution_count": 6,
      "outputs": []
    },
    {
      "cell_type": "code",
      "metadata": {
        "id": "rUxAG6-JW9wx",
        "colab_type": "code",
        "colab": {
          "base_uri": "https://localhost:8080/",
          "height": 204
        },
        "outputId": "e934dc98-31ff-4850-d8ec-8c1e4acf6d14"
      },
      "source": [
        "data.printSchema()"
      ],
      "execution_count": 7,
      "outputs": [
        {
          "output_type": "stream",
          "text": [
            "root\n",
            " |-- Cement_kgm3: string (nullable = true)\n",
            " |-- Blast_Furnace_Slag_kgm3: string (nullable = true)\n",
            " |-- Fly_Ash_kgm3: string (nullable = true)\n",
            " |-- Water_kgm3: string (nullable = true)\n",
            " |-- Superplasticizer_kgm3: string (nullable = true)\n",
            " |-- Coarse_Aggregate_kgm3: string (nullable = true)\n",
            " |-- Fine_Aggregate_kgm3: string (nullable = true)\n",
            " |-- Age_days: string (nullable = true)\n",
            " |-- Concrete_compressive_strength_MPa: string (nullable = true)\n",
            "\n"
          ],
          "name": "stdout"
        }
      ]
    },
    {
      "cell_type": "code",
      "metadata": {
        "id": "zFp9DMExU08s",
        "colab_type": "code",
        "colab": {}
      },
      "source": [
        "data2.printSchema()"
      ],
      "execution_count": null,
      "outputs": []
    },
    {
      "cell_type": "code",
      "metadata": {
        "id": "KBw2fJSILs8K",
        "colab_type": "code",
        "colab": {}
      },
      "source": [
        "# covert to numeric types\n",
        "#import double type from spark sql\n",
        "from pyspark.sql.types import DoubleType, IntegerType\n",
        "\n",
        "#convert all columns\n",
        "for col_name in data.columns:\n",
        "    data = data.withColumn(col_name, data[col_name].cast(DoubleType()))\n",
        "    data2 = data2.withColumn(col_name, data2[col_name].cast(DoubleType()))\n",
        "\n",
        "#data = data.withColumn(\"Orientation\", data[\"Orientation\"].cast(IntegerType()))\n",
        "    \n",
        "# Split the data into training and test sets (30% held out for testing)\n",
        "(trainingData, testData) = data.randomSplit([0.7, 0.3])"
      ],
      "execution_count": 8,
      "outputs": []
    },
    {
      "cell_type": "code",
      "metadata": {
        "id": "ZxyMFVA6LxVe",
        "colab_type": "code",
        "colab": {
          "base_uri": "https://localhost:8080/",
          "height": 204
        },
        "outputId": "9d33ba0a-7d52-488a-b8a8-9f33472be90f"
      },
      "source": [
        "data.printSchema()"
      ],
      "execution_count": 9,
      "outputs": [
        {
          "output_type": "stream",
          "text": [
            "root\n",
            " |-- Cement_kgm3: double (nullable = true)\n",
            " |-- Blast_Furnace_Slag_kgm3: double (nullable = true)\n",
            " |-- Fly_Ash_kgm3: double (nullable = true)\n",
            " |-- Water_kgm3: double (nullable = true)\n",
            " |-- Superplasticizer_kgm3: double (nullable = true)\n",
            " |-- Coarse_Aggregate_kgm3: double (nullable = true)\n",
            " |-- Fine_Aggregate_kgm3: double (nullable = true)\n",
            " |-- Age_days: double (nullable = true)\n",
            " |-- Concrete_compressive_strength_MPa: double (nullable = true)\n",
            "\n"
          ],
          "name": "stdout"
        }
      ]
    },
    {
      "cell_type": "code",
      "metadata": {
        "id": "gR3XMXV4U-Kk",
        "colab_type": "code",
        "colab": {}
      },
      "source": [
        "data2.printSchema()"
      ],
      "execution_count": null,
      "outputs": []
    },
    {
      "cell_type": "markdown",
      "metadata": {
        "id": "DhFoQc-NYIe5",
        "colab_type": "text"
      },
      "source": [
        "### Prepare data for model"
      ]
    },
    {
      "cell_type": "code",
      "metadata": {
        "id": "n5gxGnV6L-35",
        "colab_type": "code",
        "colab": {}
      },
      "source": [
        "from pyspark.ml import Pipeline\n",
        "from pyspark.ml.feature import OneHotEncoder, VectorAssembler\n",
        "from pyspark.ml.regression import DecisionTreeRegressor\n",
        "from pyspark.ml.evaluation import RegressionEvaluator"
      ],
      "execution_count": 10,
      "outputs": []
    },
    {
      "cell_type": "code",
      "metadata": {
        "id": "ibVvTF-9MAhY",
        "colab_type": "code",
        "colab": {}
      },
      "source": [
        "# transform categorical variables to index\n",
        "#labelEncoder = OneHotEncoder(inputCol=\"Orientation\", outputCol=\"OrientationInd\")"
      ],
      "execution_count": null,
      "outputs": []
    },
    {
      "cell_type": "code",
      "metadata": {
        "id": "3Kf60eqoMAkj",
        "colab_type": "code",
        "colab": {}
      },
      "source": [
        "# assemble variables to one feature column\n",
        "assembler = VectorAssembler(\n",
        "    inputCols = ['Cement_kgm3',\"Blast_Furnace_Slag_kgm3\",\"Fly_Ash_kgm3\",\"Water_kgm3\",\"Superplasticizer_kgm3\",\"Coarse_Aggregate_kgm3\",\"Fine_Aggregate_kgm3\",\"Age_days\"],\n",
        "    outputCol = \"features\")\n",
        "\n",
        "#define the estimator - decision tree\n",
        "dt = DecisionTreeRegressor(labelCol=\"Concrete_compressive_strength_MPa\", featuresCol=\"features\")\n",
        "\n",
        "# Chain indexers and tree in a Pipeline\n",
        "pipeline = Pipeline(stages=[assembler, dt])"
      ],
      "execution_count": 12,
      "outputs": []
    },
    {
      "cell_type": "markdown",
      "metadata": {
        "id": "rKYvo9t5YIfA",
        "colab_type": "text"
      },
      "source": [
        "### Fit pipeline and transform data"
      ]
    },
    {
      "cell_type": "code",
      "metadata": {
        "id": "5MFOFMHGMO8M",
        "colab_type": "code",
        "colab": {}
      },
      "source": [
        "#fit the pipeline\n",
        "PipelineModel = pipeline.fit(trainingData)\n",
        "\n",
        "# transform using the pipeline\n",
        "predictions = PipelineModel.transform(testData)\n",
        "\n",
        "# evaluate model fit\n",
        "predictions.select(\"prediction\", \"Concrete_compressive_strength_MPa\")\n",
        "evaluator = RegressionEvaluator(\n",
        "    labelCol=\"Concrete_compressive_strength_MPa\", predictionCol=\"prediction\", metricName=\"rmse\")\n",
        "rmse = evaluator.evaluate(predictions)"
      ],
      "execution_count": 13,
      "outputs": []
    },
    {
      "cell_type": "code",
      "metadata": {
        "id": "x95zFdcRMarg",
        "colab_type": "code",
        "colab": {
          "base_uri": "https://localhost:8080/",
          "height": 479
        },
        "outputId": "3bc15e9f-571e-420b-a824-33c876112dd0"
      },
      "source": [
        "predictions.show()"
      ],
      "execution_count": 14,
      "outputs": [
        {
          "output_type": "stream",
          "text": [
            "+-----------+-----------------------+------------+----------+---------------------+---------------------+-------------------+--------+---------------------------------+--------------------+------------------+\n",
            "|Cement_kgm3|Blast_Furnace_Slag_kgm3|Fly_Ash_kgm3|Water_kgm3|Superplasticizer_kgm3|Coarse_Aggregate_kgm3|Fine_Aggregate_kgm3|Age_days|Concrete_compressive_strength_MPa|            features|        prediction|\n",
            "+-----------+-----------------------+------------+----------+---------------------+---------------------+-------------------+--------+---------------------------------+--------------------+------------------+\n",
            "|      102.0|                  153.0|         0.0|     192.0|                  0.0|                887.0|              942.0|     3.0|                      4.565020596|[102.0,153.0,0.0,...|11.443645742600228|\n",
            "|      102.0|                  153.0|         0.0|     192.0|                  0.0|                887.0|              942.0|     7.0|                      7.675936308|[102.0,153.0,0.0,...|11.443645742600228|\n",
            "|      108.3|                  162.4|         0.0|     203.5|                  0.0|                938.2|              849.0|     7.0|                      7.723510152|[108.3,162.4,0.0,...|11.443645742600228|\n",
            "|      116.0|                  173.0|         0.0|     192.0|                  0.0|                909.8|              891.9|     7.0|                     10.089791784|[116.0,173.0,0.0,...|11.443645742600228|\n",
            "|      116.0|                  173.0|         0.0|     192.0|                  0.0|                909.8|              891.9|    90.0|                     31.023662096|[116.0,173.0,0.0,...|35.843178721237564|\n",
            "|      122.6|                  183.9|         0.0|     203.5|                  0.0|                958.2|              800.1|     3.0|                       3.31982694|[122.6,183.9,0.0,...|11.443645742600228|\n",
            "|      132.0|                  206.5|       160.9|     178.9|                  5.5|                866.9|              735.6|    28.0|                     33.306517132|[132.0,206.5,160....|    27.38289786752|\n",
            "|      132.0|                  207.0|       161.0|     179.0|                  5.0|                867.0|              736.0|    28.0|                       33.3016908|[132.0,207.0,161....|    27.38289786752|\n",
            "|      133.0|                  200.0|         0.0|     192.0|                  0.0|                927.4|              839.2|     3.0|                      6.883728384|[133.0,200.0,0.0,...|11.443645742600228|\n",
            "|      133.0|                  200.0|         0.0|     192.0|                  0.0|                927.4|              839.2|    28.0|                     27.874825204|[133.0,200.0,0.0,...|    27.38289786752|\n",
            "|      136.0|                  162.0|       126.0|     172.0|                 10.0|                923.0|              764.0|    28.0|                      29.06830816|[136.0,162.0,126....|    27.38289786752|\n",
            "|      139.6|                  209.4|         0.0|     192.0|                  0.0|               1047.0|              806.9|   180.0|                     44.207822168|[139.6,209.4,0.0,...|35.843178721237564|\n",
            "|      139.9|                  132.6|       103.3|     200.3|                  7.4|                916.0|              753.4|    28.0|                     36.443632932|[139.9,132.6,103....|    27.38289786752|\n",
            "|      140.0|                  164.0|       128.0|     237.0|                  6.0|                869.0|              656.0|    28.0|                      35.22532884|[140.0,164.0,128....|    27.38289786752|\n",
            "|      141.3|                  212.0|         0.0|     203.5|                  0.0|                971.8|              748.5|    28.0|                      29.89223198|[141.3,212.0,0.0,...|    27.38289786752|\n",
            "|      141.9|                  166.6|       129.7|     173.5|                 10.9|                882.6|              785.3|    28.0|                     44.611855104|[141.9,166.6,129....|    27.38289786752|\n",
            "|      143.0|                  169.0|       143.0|     191.0|                  8.0|                967.0|              643.0|    28.0|                      29.72331036|[143.0,169.0,143....|    27.38289786752|\n",
            "|      144.0|                   15.0|       195.0|     176.0|                  6.0|               1021.0|              709.0|    28.0|                        15.340841|[144.0,15.0,195.0...|14.399270801473685|\n",
            "|      145.0|                    0.0|       134.0|     181.0|                 11.0|                979.0|              812.0|    28.0|                      13.19657064|[145.0,0.0,134.0,...|14.399270801473685|\n",
            "|      145.0|                  116.0|       119.0|     184.0|                  5.7|                833.0|              880.0|    28.0|                      29.15794004|[145.0,116.0,119....|    27.38289786752|\n",
            "+-----------+-----------------------+------------+----------+---------------------+---------------------+-------------------+--------+---------------------------------+--------------------+------------------+\n",
            "only showing top 20 rows\n",
            "\n"
          ],
          "name": "stdout"
        }
      ]
    },
    {
      "cell_type": "code",
      "metadata": {
        "id": "OR3I7yNBMoKb",
        "colab_type": "code",
        "colab": {
          "base_uri": "https://localhost:8080/",
          "height": 34
        },
        "outputId": "af306544-df3e-435e-c2a2-01e98bc8b015"
      },
      "source": [
        "##Root mean square error\n",
        "print(rmse)"
      ],
      "execution_count": 15,
      "outputs": [
        {
          "output_type": "stream",
          "text": [
            "8.050074908400509\n"
          ],
          "name": "stdout"
        }
      ]
    },
    {
      "cell_type": "code",
      "metadata": {
        "id": "Re6186lkMutV",
        "colab_type": "code",
        "colab": {}
      },
      "source": [
        "#save the fitted pipeline for later use\n",
        "PipelineModel.save(\"my_pipeline\")"
      ],
      "execution_count": 16,
      "outputs": []
    },
    {
      "cell_type": "markdown",
      "metadata": {
        "id": "9Z-bbUwmYIfC",
        "colab_type": "text"
      },
      "source": [
        "### Predict new data"
      ]
    },
    {
      "cell_type": "code",
      "metadata": {
        "id": "8hPC50UjMWjA",
        "colab_type": "code",
        "colab": {}
      },
      "source": [
        ""
      ],
      "execution_count": null,
      "outputs": []
    },
    {
      "cell_type": "code",
      "metadata": {
        "id": "VhV0uMGnMWmU",
        "colab_type": "code",
        "colab": {}
      },
      "source": [
        ""
      ],
      "execution_count": null,
      "outputs": []
    },
    {
      "cell_type": "markdown",
      "metadata": {
        "id": "lXt1RHBlYIfJ",
        "colab_type": "text"
      },
      "source": [
        "### END"
      ]
    }
  ]
}