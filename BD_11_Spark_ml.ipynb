{
  "nbformat": 4,
  "nbformat_minor": 0,
  "metadata": {
    "kernelspec": {
      "display_name": "Python 3",
      "language": "python",
      "name": "python3"
    },
    "language_info": {
      "codemirror_mode": {
        "name": "ipython",
        "version": 3
      },
      "file_extension": ".py",
      "mimetype": "text/x-python",
      "name": "python",
      "nbconvert_exporter": "python",
      "pygments_lexer": "ipython3",
      "version": "3.7.3"
    },
    "colab": {
      "name": "BD_11_Spark_ml.ipynb",
      "provenance": [],
      "collapsed_sections": [],
      "toc_visible": true,
      "include_colab_link": true
    }
  },
  "cells": [
    {
      "cell_type": "markdown",
      "metadata": {
        "id": "view-in-github",
        "colab_type": "text"
      },
      "source": [
        "<a href=\"https://colab.research.google.com/github/Buziwe/BMAssignment/blob/master/BD_11_Spark_ml.ipynb\" target=\"_parent\"><img src=\"https://colab.research.google.com/assets/colab-badge.svg\" alt=\"Open In Colab\"/></a>"
      ]
    },
    {
      "cell_type": "markdown",
      "metadata": {
        "id": "4qd4eVwgXkTo",
        "colab_type": "text"
      },
      "source": [
        "# Setup"
      ]
    },
    {
      "cell_type": "code",
      "metadata": {
        "id": "nuYJY9r2XmBJ",
        "colab_type": "code",
        "colab": {}
      },
      "source": [
        "# Installing java and downloading spark\n",
        "!apt-get install openjdk-8-jdk-headless -qq > /dev/null\n",
        "!wget -q https://www-us.apache.org/dist/spark/spark-2.4.5/spark-2.4.5-bin-hadoop2.7.tgz\n",
        "!tar xf spark-2.4.5-bin-hadoop2.7.tgz\n",
        "!pip install -q findspark\n",
        "import os\n",
        "os.environ[\"JAVA_HOME\"] = \"/usr/lib/jvm/java-8-openjdk-amd64\"\n",
        "os.environ[\"SPARK_HOME\"] = \"/content/spark-2.4.5-bin-hadoop2.7\""
      ],
      "execution_count": 1,
      "outputs": []
    },
    {
      "cell_type": "markdown",
      "metadata": {
        "id": "z26syq5MXtLj",
        "colab_type": "text"
      },
      "source": [
        "### Upload energy_data_ml.csv"
      ]
    },
    {
      "cell_type": "markdown",
      "metadata": {
        "id": "uPWPRbswXqqG",
        "colab_type": "text"
      },
      "source": [
        "# Spark ML"
      ]
    },
    {
      "cell_type": "markdown",
      "metadata": {
        "id": "qKxntsprW9wV",
        "colab_type": "text"
      },
      "source": [
        "We will explore fitting a regression model and k-means clustering in Spark ML. We will be analysing household energy efficiency data. We explore different building shapes and how they differ with respect to the glazing area, the glazing area distribution, and the orientation, amongst other parameters. The dataset comprises 768 samples aiming to predict the heating and cooling load on these buildings. Data from [here](http://archive.ics.uci.edu/ml/datasets/Energy+efficiency)"
      ]
    },
    {
      "cell_type": "markdown",
      "metadata": {
        "id": "sZ2UEb2gW9wW",
        "colab_type": "text"
      },
      "source": [
        "### Start spark app"
      ]
    },
    {
      "cell_type": "code",
      "metadata": {
        "id": "yZPOHkqtW9wd",
        "colab_type": "code",
        "colab": {}
      },
      "source": [
        "import findspark\n",
        "findspark.init()\n",
        "from pyspark.sql import SparkSession\n",
        "spark = SparkSession.builder.master(\"local[*]\").getOrCreate()"
      ],
      "execution_count": 2,
      "outputs": []
    },
    {
      "cell_type": "markdown",
      "metadata": {
        "id": "toDQY4wVW9wk",
        "colab_type": "text"
      },
      "source": [
        "### Load and clean data"
      ]
    },
    {
      "cell_type": "code",
      "metadata": {
        "id": "Vv7pPTC1W9wl",
        "colab_type": "code",
        "colab": {}
      },
      "source": [
        "data = spark.read.csv(\"energy_data_ml.csv\",header=True)"
      ],
      "execution_count": 3,
      "outputs": []
    },
    {
      "cell_type": "code",
      "metadata": {
        "id": "7euG8fr4W9wr",
        "colab_type": "code",
        "colab": {}
      },
      "source": [
        "#get rid of unwanted columns\n",
        "data = data.drop('_c0')\n",
        "#drop nas\n",
        "data = data.dropna()"
      ],
      "execution_count": 5,
      "outputs": []
    },
    {
      "cell_type": "code",
      "metadata": {
        "id": "rUxAG6-JW9wx",
        "colab_type": "code",
        "colab": {
          "base_uri": "https://localhost:8080/",
          "height": 187
        },
        "outputId": "f40d8b98-db2d-4615-ba2b-8f35b158a43c"
      },
      "source": [
        "data.printSchema()"
      ],
      "execution_count": 6,
      "outputs": [
        {
          "output_type": "stream",
          "text": [
            "root\n",
            " |-- Relative_Compactness: string (nullable = true)\n",
            " |-- Surface_Area: string (nullable = true)\n",
            " |-- Wall_Area: string (nullable = true)\n",
            " |-- Roof_Area: string (nullable = true)\n",
            " |-- Overall_Height: string (nullable = true)\n",
            " |-- Orientation: string (nullable = true)\n",
            " |-- Glazing_Area: string (nullable = true)\n",
            " |-- Cooling_Load: string (nullable = true)\n",
            "\n"
          ],
          "name": "stdout"
        }
      ]
    },
    {
      "cell_type": "code",
      "metadata": {
        "id": "yegoKXWAW9w4",
        "colab_type": "code",
        "colab": {}
      },
      "source": [
        "# covert to numeric types\n",
        "#import double type from spark sql\n",
        "from pyspark.sql.types import DoubleType, IntegerType\n",
        "\n",
        "#convert all columns\n",
        "for col_name in data.columns:\n",
        "    data = data.withColumn(col_name, data[col_name].cast(DoubleType()))\n",
        "\n",
        "data = data.withColumn(\"Orientation\", data[\"Orientation\"].cast(IntegerType()))\n",
        "    \n",
        "# Split the data into training and test sets (30% held out for testing)\n",
        "(trainingData, testData) = data.randomSplit([0.7, 0.3])"
      ],
      "execution_count": 7,
      "outputs": []
    },
    {
      "cell_type": "code",
      "metadata": {
        "id": "DmMJhkBEW9w-",
        "colab_type": "code",
        "colab": {
          "base_uri": "https://localhost:8080/",
          "height": 187
        },
        "outputId": "8d538f98-8912-4d40-a300-e633dddbc3f5"
      },
      "source": [
        "data.printSchema()"
      ],
      "execution_count": 8,
      "outputs": [
        {
          "output_type": "stream",
          "text": [
            "root\n",
            " |-- Relative_Compactness: double (nullable = true)\n",
            " |-- Surface_Area: double (nullable = true)\n",
            " |-- Wall_Area: double (nullable = true)\n",
            " |-- Roof_Area: double (nullable = true)\n",
            " |-- Overall_Height: double (nullable = true)\n",
            " |-- Orientation: integer (nullable = true)\n",
            " |-- Glazing_Area: double (nullable = true)\n",
            " |-- Cooling_Load: double (nullable = true)\n",
            "\n"
          ],
          "name": "stdout"
        }
      ]
    },
    {
      "cell_type": "markdown",
      "metadata": {
        "id": "oh4XSUrrW9xD",
        "colab_type": "text"
      },
      "source": [
        "### Prepare data for model"
      ]
    },
    {
      "cell_type": "code",
      "metadata": {
        "id": "L-Qhjz7jW9xD",
        "colab_type": "code",
        "colab": {}
      },
      "source": [
        "from pyspark.ml import Pipeline\n",
        "from pyspark.ml.feature import OneHotEncoder, VectorAssembler\n",
        "from pyspark.ml.regression import DecisionTreeRegressor\n",
        "from pyspark.ml.evaluation import RegressionEvaluator"
      ],
      "execution_count": null,
      "outputs": []
    },
    {
      "cell_type": "code",
      "metadata": {
        "id": "ujpMR_92W9xI",
        "colab_type": "code",
        "colab": {}
      },
      "source": [
        "# transform categorical variables to index\n",
        "labelEncoder = OneHotEncoder(inputCol=\"Orientation\", outputCol=\"OrientationInd\")"
      ],
      "execution_count": null,
      "outputs": []
    },
    {
      "cell_type": "code",
      "metadata": {
        "id": "4eMjtPesW9xM",
        "colab_type": "code",
        "colab": {}
      },
      "source": [
        "# assemble variables to one feature column\n",
        "assembler = VectorAssembler(\n",
        "    inputCols = ['Relative_Compactness',\"Surface_Area\",\"Wall_Area\",\"Roof_Area\",\"Overall_Height\",\"OrientationInd\",\"Glazing_Area\"],\n",
        "    outputCol = \"features\")\n",
        "\n",
        "#define the estimator - decision tree\n",
        "dt = DecisionTreeRegressor(labelCol=\"Cooling_Load\", featuresCol=\"features\")\n",
        "\n",
        "# Chain indexers and tree in a Pipeline\n",
        "pipeline = Pipeline(stages=[labelEncoder, assembler, dt])"
      ],
      "execution_count": null,
      "outputs": []
    },
    {
      "cell_type": "markdown",
      "metadata": {
        "id": "URMuCqMsW9xQ",
        "colab_type": "text"
      },
      "source": [
        "### Fit pipeline and transform data"
      ]
    },
    {
      "cell_type": "code",
      "metadata": {
        "id": "135UVYGwW9xR",
        "colab_type": "code",
        "colab": {}
      },
      "source": [
        "#fit the pipeline\n",
        "PipelineModel = pipeline.fit(trainingData)\n",
        "\n",
        "# transform using the pipeline\n",
        "predictions = PipelineModel.transform(testData)\n",
        "\n",
        "# evaluate model fit\n",
        "predictions.select(\"prediction\", \"Cooling_Load\")\n",
        "evaluator = RegressionEvaluator(\n",
        "    labelCol=\"Cooling_Load\", predictionCol=\"prediction\", metricName=\"rmse\")\n",
        "rmse = evaluator.evaluate(predictions)"
      ],
      "execution_count": null,
      "outputs": []
    },
    {
      "cell_type": "code",
      "metadata": {
        "id": "haL2ZdJPW9xW",
        "colab_type": "code",
        "colab": {}
      },
      "source": [
        "predictions.show()"
      ],
      "execution_count": null,
      "outputs": []
    },
    {
      "cell_type": "code",
      "metadata": {
        "id": "wRF4AJ9vW9xc",
        "colab_type": "code",
        "colab": {}
      },
      "source": [
        "##Root mean square error\n",
        "print(rmse)"
      ],
      "execution_count": null,
      "outputs": []
    },
    {
      "cell_type": "code",
      "metadata": {
        "id": "tjcefnnAW9xf",
        "colab_type": "code",
        "colab": {}
      },
      "source": [
        "#save the fitted pipeline for later use\n",
        "PipelineModel.save(\"my_pipeline\")"
      ],
      "execution_count": null,
      "outputs": []
    },
    {
      "cell_type": "markdown",
      "metadata": {
        "id": "Lk7cSWIRW9xk",
        "colab_type": "text"
      },
      "source": [
        "### Kmeans clustering"
      ]
    },
    {
      "cell_type": "code",
      "metadata": {
        "id": "3NhoR23-W9xl",
        "colab_type": "code",
        "colab": {}
      },
      "source": [
        "from pyspark.ml.clustering import KMeans\n",
        "\n",
        "# Trains a k-means model with 4 clusters.\n",
        "kmeans = KMeans(featuresCol='features', predictionCol='prediction',k=4)\n",
        "\n",
        "#transform data using pipeline\n",
        "pipeline = Pipeline(stages=[labelEncoder, assembler, kmeans])\n",
        "\n",
        "#fir pipeline\n",
        "PipelineModel = pipeline.fit(data)\n",
        "\n",
        "# transform using the pipeline\n",
        "predictions = PipelineModel.transform(data)"
      ],
      "execution_count": null,
      "outputs": []
    },
    {
      "cell_type": "code",
      "metadata": {
        "id": "lhYsUOIEW9xq",
        "colab_type": "code",
        "colab": {}
      },
      "source": [
        "#view result\n",
        "predictions.show()"
      ],
      "execution_count": null,
      "outputs": []
    },
    {
      "cell_type": "markdown",
      "metadata": {
        "id": "FeAi4MAhW9xv",
        "colab_type": "text"
      },
      "source": [
        "### END"
      ]
    },
    {
      "cell_type": "code",
      "metadata": {
        "id": "RYExsnSJW9xw",
        "colab_type": "code",
        "colab": {}
      },
      "source": [
        "spark.stop()"
      ],
      "execution_count": null,
      "outputs": []
    },
    {
      "cell_type": "code",
      "metadata": {
        "id": "fnX_cPhGW9x1",
        "colab_type": "code",
        "colab": {}
      },
      "source": [
        ""
      ],
      "execution_count": null,
      "outputs": []
    }
  ]
}